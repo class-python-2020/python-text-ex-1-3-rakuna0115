{
 "metadata": {
  "language_info": {
   "codemirror_mode": {
    "name": "ipython",
    "version": 3
   },
   "file_extension": ".py",
   "mimetype": "text/x-python",
   "name": "python",
   "nbconvert_exporter": "python",
   "pygments_lexer": "ipython3",
   "version": "3.8.2-final"
  },
  "orig_nbformat": 2,
  "kernelspec": {
   "name": "python_defaultSpec_1598068696036",
   "display_name": "Python 3.8.2 32-bit"
  }
 },
 "nbformat": 4,
 "nbformat_minor": 2,
 "cells": [
  {
   "cell_type": "code",
   "execution_count": 1,
   "metadata": {},
   "outputs": [
    {
     "output_type": "execute_result",
     "data": {
      "text/plain": "{0: 0, 1: 1, 2: 4, 3: 9, 4: 16, 5: 25, 6: 36, 7: 49, 8: 64, 9: 81, 10: 100}"
     },
     "metadata": {},
     "execution_count": 1
    }
   ],
   "source": [
    "square_dict = {x: x*x for x in range(11)}\n",
    "square_dict"
   ]
  },
  {
   "cell_type": "code",
   "execution_count": 2,
   "metadata": {},
   "outputs": [
    {
     "output_type": "execute_result",
     "data": {
      "text/plain": "{(0, 0): 0, (0, 1): 0, (1, 0): 0, (1, 1): 1}"
     },
     "metadata": {},
     "execution_count": 2
    }
   ],
   "source": [
    "multiplicated_xy_dict = {(x,y):x*y for x in range(2) for y in range(2)}\n",
    "multiplicated_xy_dict"
   ]
  },
  {
   "cell_type": "code",
   "execution_count": 3,
   "metadata": {},
   "outputs": [
    {
     "output_type": "execute_result",
     "data": {
      "text/plain": "{('Hokkaido', 'Sapporo'): 100,\n ('Hokkaido', 'Hokodate'): 200,\n ('Tokyo', 'Minato'): 300,\n ('Kanagawa', 'Yokohama'): 400}"
     },
     "metadata": {},
     "execution_count": 3
    }
   ],
   "source": [
    "prefectures = ['Hokkaido','Hokkaido','Tokyo','Kanagawa']\n",
    "cities = ['Sapporo','Hokodate','Minato','Yokohama']\n",
    "populations = [100,200,300,400]\n",
    "population_dict = {(state,city): population for state,city,population in zip(prefectures,cities,populations)}\n",
    "population_dict"
   ]
  },
  {
   "cell_type": "code",
   "execution_count": 4,
   "metadata": {},
   "outputs": [
    {
     "output_type": "execute_result",
     "data": {
      "text/plain": "{(0, 0): 0, (0, 1): 0, (1, 0): 0, (1, 1): 1}"
     },
     "metadata": {},
     "execution_count": 4
    }
   ],
   "source": [
    "multiplicated_xy_setdict = {frozenset([x,y]):x*y for x in range(2)for y in range(2)}\n",
    "multiplicated_xy_dict"
   ]
  },
  {
   "cell_type": "code",
   "execution_count": 5,
   "metadata": {},
   "outputs": [
    {
     "output_type": "execute_result",
     "data": {
      "text/plain": "{0: {0: 0, 1: 0, 2: 0}, 1: {0: 0, 1: 1, 2: 2}, 2: {0: 0, 1: 2, 2: 4}}"
     },
     "metadata": {},
     "execution_count": 5
    }
   ],
   "source": [
    "{0: {0: 0,1: 0,2: 0},1:{0:0,1:1,2: 2},2:{0: 0,1: 2,2: 4}}"
   ]
  },
  {
   "cell_type": "code",
   "execution_count": 6,
   "metadata": {},
   "outputs": [
    {
     "output_type": "execute_result",
     "data": {
      "text/plain": "{0: {0: 0, 1: 0, 2: 0}, 1: {0: 0, 1: 1, 2: 2}, 2: {0: 0, 1: 2, 2: 4}}"
     },
     "metadata": {},
     "execution_count": 6
    }
   ],
   "source": [
    "multiplicated_xy_dict = {}\n",
    "I = 3\n",
    "J = 3\n",
    "for i in range(I):\n",
    "    multiplicated_xy_dict[i] = {}\n",
    "    for j in range(J):\n",
    "        multiplicated_xy_dict[i][j] = i*j\n",
    "multiplicated_xy_dict"
   ]
  },
  {
   "cell_type": "code",
   "execution_count": 8,
   "metadata": {},
   "outputs": [
    {
     "output_type": "execute_result",
     "data": {
      "text/plain": "{2: {0: 0, 1: 2, 2: 4}}"
     },
     "metadata": {},
     "execution_count": 8
    }
   ],
   "source": [
    "I = 3\n",
    "J = 3\n",
    "multiplicated_xy_dict = {j:{j:(i*j) for j in range(J)}for i in range(I)}\n",
    "multiplicated_xy_dict"
   ]
  },
  {
   "cell_type": "code",
   "execution_count": 9,
   "metadata": {},
   "outputs": [
    {
     "output_type": "execute_result",
     "data": {
      "text/plain": "4"
     },
     "metadata": {},
     "execution_count": 9
    }
   ],
   "source": [
    "multiplicated_xy_dict[2][2]"
   ]
  },
  {
   "cell_type": "code",
   "execution_count": 10,
   "metadata": {
    "tags": []
   },
   "outputs": [
    {
     "output_type": "stream",
     "name": "stdout",
     "text": "key1\tkey\tval\n2\t0\t0\n2\t1\t2\n2\t2\t4\n"
    }
   ],
   "source": [
    "print('key1','key','val',sep='\\t')\n",
    "for i, v1 in multiplicated_xy_dict.items():\n",
    "    for j, v2 in v1.items():\n",
    "        print(i,j,v2,sep='\\t')"
   ]
  },
  {
   "cell_type": "code",
   "execution_count": 14,
   "metadata": {
    "tags": []
   },
   "outputs": [
    {
     "output_type": "stream",
     "name": "stdout",
     "text": "Iceland {'code': 354, 'captital': 'Reykjavik'}\nIreland {'code': 353, 'captital': 'Dublin'}\nAzerbaidjan {'code': 994, 'capital': 'Baku'}\n"
    }
   ],
   "source": [
    "country_code = {\n",
    "    'Iceland' : {'code': 354,'captital':'Reykjavik'},\n",
    "    'Ireland' : {'code': 353,'captital':'Dublin'},\n",
    "    'Azerbaidjan':{'code':994,'capital':'Baku'}\n",
    "}\n",
    "\n",
    "def getstr_keyval(x):\n",
    "    if isinstance(x,dict):\n",
    "        return x\n",
    "\n",
    "    my_str = ''\n",
    "    for key,val in x.items():\n",
    "        my_str +=(' '+str(key) + ' '+getstr_keyval(val))\n",
    "    return my_str\n",
    "\n",
    "for key1, val in country_code.items():\n",
    "    print(key1,getstr_keyval(val))\n"
   ]
  },
  {
   "cell_type": "code",
   "execution_count": 15,
   "metadata": {},
   "outputs": [
    {
     "output_type": "execute_result",
     "data": {
      "text/plain": "[['01', '0001', 'Male', 'Yamada', 'Tarou', 25, 'Tokyo'],\n ['01', '0002', 'Male', 'Satou', 'Takeshi', 27, 'Kanagawa'],\n ['01', '0003', 'Female', 'Tanaka', 'Yuto', 25, 'Saitama'],\n ['02', '0001', 'Male', 'Smith', 'Mike', 22, 'NewJersey'],\n ['02', '0002', 'Male', 'Turner', 'Tom', 27, 'Kansas'],\n ['02', '0003', 'Male', 'Jackson', 'David', 22, 'Florida']]"
     },
     "metadata": {},
     "execution_count": 15
    }
   ],
   "source": [
    "data = [\n",
    "    ['01','0001','Male','Yamada','Tarou',25,'Tokyo'],\n",
    "    ['01','0002','Male','Satou','Takeshi',27,'Kanagawa'],\n",
    "    ['01','0003','Female','Tanaka','Yuto',25,'Saitama'],\n",
    "    ['02','0001','Male','Smith','Mike',22,'NewJersey'],\n",
    "    ['02','0002','Male','Turner','Tom',27,'Kansas'],\n",
    "    ['02','0003','Male','Jackson','David',22,'Florida']\n",
    "]\n",
    "data"
   ]
  },
  {
   "cell_type": "code",
   "execution_count": 17,
   "metadata": {},
   "outputs": [],
   "source": [
    "member_infomation = {}\n",
    "\n",
    "for record in data:\n",
    "    key = (record[0],record[1])\n",
    "    info = record[2:]\n",
    "    member_infomation[key] = info"
   ]
  },
  {
   "cell_type": "code",
   "execution_count": 18,
   "metadata": {
    "tags": []
   },
   "outputs": [
    {
     "output_type": "stream",
     "name": "stdout",
     "text": "number\tinfomation\n('01', '0001') ['Male', 'Yamada', 'Tarou', 25, 'Tokyo']\n('01', '0002') ['Male', 'Satou', 'Takeshi', 27, 'Kanagawa']\n('01', '0003') ['Female', 'Tanaka', 'Yuto', 25, 'Saitama']\n('02', '0001') ['Male', 'Smith', 'Mike', 22, 'NewJersey']\n('02', '0002') ['Male', 'Turner', 'Tom', 27, 'Kansas']\n('02', '0003') ['Male', 'Jackson', 'David', 22, 'Florida']\n"
    }
   ],
   "source": [
    "print('number','infomation',sep='\\t')\n",
    "for key,info in member_infomation.items():\n",
    "    print(key,info)"
   ]
  },
  {
   "cell_type": "code",
   "execution_count": null,
   "metadata": {},
   "outputs": [],
   "source": []
  }
 ]
}