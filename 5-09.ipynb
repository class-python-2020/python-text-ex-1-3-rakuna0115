{
 "metadata": {
  "language_info": {
   "codemirror_mode": {
    "name": "ipython",
    "version": 3
   },
   "file_extension": ".py",
   "mimetype": "text/x-python",
   "name": "python",
   "nbconvert_exporter": "python",
   "pygments_lexer": "ipython3",
   "version": "3.8.2-final"
  },
  "orig_nbformat": 2,
  "kernelspec": {
   "name": "python_defaultSpec_1598080724238",
   "display_name": "Python 3.8.2 32-bit"
  }
 },
 "nbformat": 4,
 "nbformat_minor": 2,
 "cells": [
  {
   "cell_type": "code",
   "execution_count": 2,
   "metadata": {
    "tags": []
   },
   "outputs": [
    {
     "output_type": "stream",
     "name": "stdout",
     "text": "1 one\n2 two\n3 three\n"
    }
   ],
   "source": [
    "intdict = {'1':'one','2':'two','3':'three'}\n",
    "for key,val in intdict.items():\n",
    "    print(key,val)"
   ]
  },
  {
   "cell_type": "code",
   "execution_count": 3,
   "metadata": {
    "tags": []
   },
   "outputs": [
    {
     "output_type": "stream",
     "name": "stdout",
     "text": "0 fuji\n1 kitadake\n2 okuhodakadake\n"
    }
   ],
   "source": [
    "mountains = ['fuji','kitadake','okuhodakadake']\n",
    "for i, mt in enumerate(mountains):\n",
    "    print(i,mt)"
   ]
  },
  {
   "cell_type": "code",
   "execution_count": 5,
   "metadata": {
    "tags": []
   },
   "outputs": [
    {
     "output_type": "stream",
     "name": "stdout",
     "text": "1 fuji 3776\n2 kitadake 3193\n3 okuhodakadake 3190\n"
    }
   ],
   "source": [
    "order = [1,2,3]\n",
    "mountains = ['fuji','kitadake','okuhodakadake']\n",
    "height = [3776,3193,3190]\n",
    "for odr,mt,ht in zip(order,mountains,height):\n",
    "    print(odr,mt,ht)"
   ]
  },
  {
   "cell_type": "code",
   "execution_count": 6,
   "metadata": {
    "tags": []
   },
   "outputs": [
    {
     "output_type": "stream",
     "name": "stdout",
     "text": "fuji\nkitadake\nokuhoudake\n"
    }
   ],
   "source": [
    "mountains = ['kitadake','okuhoudake','fuji']\n",
    "for mt in sorted(mountains):\n",
    "    print(mt)"
   ]
  },
  {
   "cell_type": "code",
   "execution_count": 7,
   "metadata": {
    "tags": []
   },
   "outputs": [
    {
     "output_type": "stream",
     "name": "stdout",
     "text": "okuhodakadake\nkitadake\nfuji\n"
    }
   ],
   "source": [
    "mountains = ['fuji','kitadake','okuhodakadake']\n",
    "for mt in reversed(mountains):\n",
    "    print(mt)"
   ]
  },
  {
   "cell_type": "code",
   "execution_count": 8,
   "metadata": {
    "tags": []
   },
   "outputs": [
    {
     "output_type": "stream",
     "name": "stdout",
     "text": "fuji 3776\nkitadake 3193\nokuhodakadake 3190\n"
    }
   ],
   "source": [
    "mountain_in_japan = {'fuji':3776,'kitadake':3193,'okuhodakadake':3190}\n",
    "mountain_in_japan_sorted = sorted(mountain_in_japan.items(),key=lambda x:x[0])\n",
    "for key,val in mountain_in_japan_sorted:\n",
    "    print(key,val)\n"
   ]
  },
  {
   "cell_type": "code",
   "execution_count": 10,
   "metadata": {
    "tags": []
   },
   "outputs": [
    {
     "output_type": "stream",
     "name": "stdout",
     "text": "okuhodakadake 3190\nkitadake 3193\nfuji 3776\n"
    }
   ],
   "source": [
    "mountain_in_japan = {'fuji':3776,'kitadake':3193,'okuhodakadake':3190}\n",
    "mountain_in_japan_sorted = sorted(mountain_in_japan.items(),key=lambda\n",
    "x:x[1])\n",
    "for key,val in mountain_in_japan_sorted:\n",
    "    print(key,val)"
   ]
  },
  {
   "cell_type": "code",
   "execution_count": 11,
   "metadata": {
    "tags": []
   },
   "outputs": [
    {
     "output_type": "stream",
     "name": "stdout",
     "text": "fuji 3776\nkitadake 3193\nokuhodakadake 3190\n"
    }
   ],
   "source": [
    "\n",
    "for key,val in reversed(mountain_in_japan_sorted):\n",
    "    print(key,val)"
   ]
  },
  {
   "cell_type": "code",
   "execution_count": 12,
   "metadata": {},
   "outputs": [],
   "source": [
    "mountain_in_japan ={'fuji':3776,'kitadake':3193,'okuhodakadake':3190,'dummy':0}"
   ]
  },
  {
   "cell_type": "code",
   "execution_count": 13,
   "metadata": {
    "tags": []
   },
   "outputs": [
    {
     "output_type": "stream",
     "name": "stdout",
     "text": "[('fuji', 3776), ('kitadake', 3193), ('okuhodakadake', 3190), ('dummy', 0)]\n"
    }
   ],
   "source": [
    "mountain_in_japan ={'fuji':3776,'kitadake':3193,\n",
    "                    'okuhodakadake':3190,'dummy':0}\n",
    "mountain_in_japan_sorted = sorted(mountain_in_japan.items(),\n",
    "                                  key = lambda x: x[1],reverse=True)\n",
    "print(mountain_in_japan_sorted\n",
    "\n",
    ")"
   ]
  },
  {
   "cell_type": "code",
   "execution_count": 15,
   "metadata": {},
   "outputs": [
    {
     "output_type": "execute_result",
     "data": {
      "text/plain": "[('dummy', 0), ('okuhodakadake', 3190), ('kitadake', 3193), ('fuji', 3776)]"
     },
     "metadata": {},
     "execution_count": 15
    }
   ],
   "source": [
    "mountain_in_japan_dict_items =  mountain_in_japan.items()\n",
    "sorted(mountain_in_japan_dict_items,key = lambda x: x[1])"
   ]
  },
  {
   "cell_type": "code",
   "execution_count": 20,
   "metadata": {},
   "outputs": [
    {
     "output_type": "error",
     "ename": "NameError",
     "evalue": "name 'mountain_in_japan_tpllist' is not defined",
     "traceback": [
      "\u001b[1;31m---------------------------------------------------------------------------\u001b[0m",
      "\u001b[1;31mNameError\u001b[0m                                 Traceback (most recent call last)",
      "\u001b[1;32m<ipython-input-20-754315108f81>\u001b[0m in \u001b[0;36m<module>\u001b[1;34m\u001b[0m\n\u001b[0;32m      1\u001b[0m \u001b[1;32mfrom\u001b[0m \u001b[0moperator\u001b[0m \u001b[1;32mimport\u001b[0m \u001b[0mitemgetter\u001b[0m\u001b[1;33m\u001b[0m\u001b[1;33m\u001b[0m\u001b[0m\n\u001b[1;32m----> 2\u001b[1;33m \u001b[0msorted\u001b[0m\u001b[1;33m(\u001b[0m\u001b[0mmountain_in_japan_tpllist\u001b[0m\u001b[1;33m,\u001b[0m \u001b[0mkey\u001b[0m\u001b[1;33m=\u001b[0m\u001b[0mitemgetter\u001b[0m\u001b[1;33m(\u001b[0m\u001b[1;36m1\u001b[0m\u001b[1;33m)\u001b[0m\u001b[1;33m)\u001b[0m\u001b[1;33m\u001b[0m\u001b[1;33m\u001b[0m\u001b[0m\n\u001b[0m",
      "\u001b[1;31mNameError\u001b[0m: name 'mountain_in_japan_tpllist' is not defined"
     ]
    }
   ],
   "source": [
    "from operator import itemgetter\n",
    "sorted(mountain_in_japan_tpllist, key=itemgetter(1))"
   ]
  },
  {
   "cell_type": "code",
   "execution_count": 21,
   "metadata": {
    "tags": []
   },
   "outputs": [
    {
     "output_type": "stream",
     "name": "stdout",
     "text": "[('fuji', 3776), ('kitadake', 3193), ('okuhodakadake', 3190), ('dummy', 0)]\n"
    },
    {
     "output_type": "execute_result",
     "data": {
      "text/plain": "[('dummy', 0), ('okuhodakadake', 3190), ('kitadake', 3193), ('fuji', 3776)]"
     },
     "metadata": {},
     "execution_count": 21
    }
   ],
   "source": [
    "from operator import attrgetter\n",
    "\n",
    "class MountainInfo:\n",
    "    def __init__(self,my_name,my_height):\n",
    "        self.name = my_name\n",
    "        self.height = my_height\n",
    "    def __repr__(self):\n",
    "        return repr((self.name,self.height))\n",
    "\n",
    "mountain_in_japan_clslist = [\n",
    "    MountainInfo('fuji',3776),\n",
    "    MountainInfo('kitadake',3193),\n",
    "    MountainInfo('okuhodakadake',3190),\n",
    "    MountainInfo('dummy',0)\n",
    "]\n",
    "\n",
    "print(mountain_in_japan_clslist)\n",
    "sorted(mountain_in_japan_clslist,key=attrgetter('height'))"
   ]
  },
  {
   "cell_type": "code",
   "execution_count": 24,
   "metadata": {},
   "outputs": [
    {
     "output_type": "error",
     "ename": "SyntaxError",
     "evalue": "invalid syntax (<ipython-input-24-11bf47f4cb64>, line 3)",
     "traceback": [
      "\u001b[1;36m  File \u001b[1;32m\"<ipython-input-24-11bf47f4cb64>\"\u001b[1;36m, line \u001b[1;32m3\u001b[0m\n\u001b[1;33m    if height[i] if None:\u001b[0m\n\u001b[1;37m                        ^\u001b[0m\n\u001b[1;31mSyntaxError\u001b[0m\u001b[1;31m:\u001b[0m invalid syntax\n"
     ]
    }
   ],
   "source": [
    "height = [3776,3193,None,None]\n",
    "for i in range(len(height)):\n",
    "    if height[i] if None:\n",
    "        del height[i]"
   ]
  },
  {
   "cell_type": "code",
   "execution_count": 25,
   "metadata": {},
   "outputs": [
    {
     "output_type": "execute_result",
     "data": {
      "text/plain": "[3776, None, None]"
     },
     "metadata": {},
     "execution_count": 25
    }
   ],
   "source": [
    "height = [3776,3193,None,None]\n",
    "used_index = []\n",
    "for i,ht in enumerate(height):\n",
    "    used_index.append(1)\n",
    "    if ht is None:\n",
    "        del height[1]\n",
    "height"
   ]
  },
  {
   "cell_type": "code",
   "execution_count": 26,
   "metadata": {},
   "outputs": [
    {
     "output_type": "execute_result",
     "data": {
      "text/plain": "[1, 1, 1]"
     },
     "metadata": {},
     "execution_count": 26
    }
   ],
   "source": [
    "used_index"
   ]
  },
  {
   "cell_type": "code",
   "execution_count": 27,
   "metadata": {},
   "outputs": [
    {
     "output_type": "execute_result",
     "data": {
      "text/plain": "[3776, 3193, 3190]"
     },
     "metadata": {},
     "execution_count": 27
    }
   ],
   "source": [
    "height = [3776,3193,3190,None,None]\n",
    "for ht in height[:]:\n",
    "    if ht is None:\n",
    "        height.remove(ht)\n",
    "height"
   ]
  },
  {
   "cell_type": "code",
   "execution_count": 29,
   "metadata": {},
   "outputs": [
    {
     "output_type": "execute_result",
     "data": {
      "text/plain": "[3776, 3193, 3190]"
     },
     "metadata": {},
     "execution_count": 29
    }
   ],
   "source": [
    "height = [3776,3193,3190,None,None]\n",
    "height = [ht for ht in height if ht is not None]\n",
    "height"
   ]
  },
  {
   "cell_type": "code",
   "execution_count": null,
   "metadata": {},
   "outputs": [],
   "source": []
  }
 ]
}